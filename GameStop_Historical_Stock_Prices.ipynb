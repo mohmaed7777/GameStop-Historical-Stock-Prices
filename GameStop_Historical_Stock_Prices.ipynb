{
  "nbformat": 4,
  "nbformat_minor": 0,
  "metadata": {
    "colab": {
      "name": "GameStop Historical Stock Prices.ipynb",
      "provenance": [],
      "authorship_tag": "ABX9TyPtquLLjcVDTVm0VKP+1AQp",
      "include_colab_link": true
    },
    "kernelspec": {
      "name": "python3",
      "display_name": "Python 3"
    }
  },
  "cells": [
    {
      "cell_type": "markdown",
      "metadata": {
        "id": "view-in-github",
        "colab_type": "text"
      },
      "source": [
        "<a href=\"https://colab.research.google.com/github/mohmaed7777/GameStop-Historical-Stock-Prices/blob/main/GameStop_Historical_Stock_Prices.ipynb\" target=\"_parent\"><img src=\"https://colab.research.google.com/assets/colab-badge.svg\" alt=\"Open In Colab\"/></a>"
      ]
    },
    {
      "cell_type": "markdown",
      "metadata": {
        "id": "1v3Qx2AsY09B"
      },
      "source": [
        "#**Description:**\r\n"
      ]
    },
    {
      "cell_type": "markdown",
      "metadata": {
        "id": "vzWA21UbYu6w"
      },
      "source": [
        "\r\n",
        "**GameStop Corp**: is an American video game, consumer electronics, and gaming merchandise retailer. GameStop's stocks have spiked in recent days since the Reddit group blew up the stock price. Now GameStop is up more than 1,700% since the start of January. so it is interesting to try to predict the stock prices in the next months and see how prediction and time series models will perform in this case. This Dataset is a daily historical stock price of GameStop from February 2002 (the year it was listed) to January 2021.\r\n",
        "\r\n",
        "**Content:**\r\n",
        "\r\n",
        "The dataset contains:\r\n",
        "\r\n",
        "**Date:**\r\n",
        "The date of trading\r\n",
        "\r\n",
        "**Open_price:**\r\n",
        "The opening price of the stock\r\n",
        "\r\n",
        "**High_price:**\r\n",
        "The high price of that day\r\n",
        "\r\n",
        "**Low_price:**\r\n",
        "The low price of that day\r\n",
        "\r\n",
        "**Close_price:**\r\n",
        "The closed price of that day\r\n",
        "\r\n",
        "**Volume:**\r\n",
        "The amount of stocks traded during that day\r\n",
        "\r\n",
        "**Adjclose_price:**\r\n",
        "The stock's closing price has been amended to include any distributions/corporate actions that occur before the next days open."
      ]
    },
    {
      "cell_type": "code",
      "metadata": {
        "colab": {
          "base_uri": "https://localhost:8080/"
        },
        "id": "W-M1JfLOYsu5",
        "outputId": "5e35be49-8690-4386-ccd5-4c209354da40"
      },
      "source": [
        "import pandas as pd \r\n",
        "import numpy as np \r\n",
        "import matplotlib.pyplot as plt \r\n",
        "import seaborn as sns \r\n",
        "%matplotlib inline \r\n",
        "sns.set()\r\n",
        "%pylab inline \r\n",
        "%config InlineBackend.figure_formats=['retina']\r\n",
        "import sklearn \r\n",
        "print('Setup complete^____^')"
      ],
      "execution_count": 3,
      "outputs": [
        {
          "output_type": "stream",
          "text": [
            "Populating the interactive namespace from numpy and matplotlib\n",
            "Setup complete^____^\n"
          ],
          "name": "stdout"
        }
      ]
    },
    {
      "cell_type": "code",
      "metadata": {
        "colab": {
          "base_uri": "https://localhost:8080/",
          "height": 195
        },
        "id": "9bZH5SLYaxCc",
        "outputId": "424db75f-3f88-4efa-925f-9af611280bff"
      },
      "source": [
        "game_stoke = pd.read_csv('/content/GME_stock.csv')\r\n",
        "game_stoke.head()"
      ],
      "execution_count": 4,
      "outputs": [
        {
          "output_type": "execute_result",
          "data": {
            "text/html": [
              "<div>\n",
              "<style scoped>\n",
              "    .dataframe tbody tr th:only-of-type {\n",
              "        vertical-align: middle;\n",
              "    }\n",
              "\n",
              "    .dataframe tbody tr th {\n",
              "        vertical-align: top;\n",
              "    }\n",
              "\n",
              "    .dataframe thead th {\n",
              "        text-align: right;\n",
              "    }\n",
              "</style>\n",
              "<table border=\"1\" class=\"dataframe\">\n",
              "  <thead>\n",
              "    <tr style=\"text-align: right;\">\n",
              "      <th></th>\n",
              "      <th>date</th>\n",
              "      <th>open_price</th>\n",
              "      <th>high_price</th>\n",
              "      <th>low_price</th>\n",
              "      <th>close_price</th>\n",
              "      <th>volume</th>\n",
              "      <th>adjclose_price</th>\n",
              "    </tr>\n",
              "  </thead>\n",
              "  <tbody>\n",
              "    <tr>\n",
              "      <th>0</th>\n",
              "      <td>2021-01-28</td>\n",
              "      <td>265.000000</td>\n",
              "      <td>483.000000</td>\n",
              "      <td>112.250000</td>\n",
              "      <td>193.600006</td>\n",
              "      <td>58815800.0</td>\n",
              "      <td>193.600006</td>\n",
              "    </tr>\n",
              "    <tr>\n",
              "      <th>1</th>\n",
              "      <td>2021-01-27</td>\n",
              "      <td>354.829987</td>\n",
              "      <td>380.000000</td>\n",
              "      <td>249.000000</td>\n",
              "      <td>347.510010</td>\n",
              "      <td>93396700.0</td>\n",
              "      <td>347.510010</td>\n",
              "    </tr>\n",
              "    <tr>\n",
              "      <th>2</th>\n",
              "      <td>2021-01-26</td>\n",
              "      <td>88.559998</td>\n",
              "      <td>150.000000</td>\n",
              "      <td>80.199997</td>\n",
              "      <td>147.979996</td>\n",
              "      <td>178588000.0</td>\n",
              "      <td>147.979996</td>\n",
              "    </tr>\n",
              "    <tr>\n",
              "      <th>3</th>\n",
              "      <td>2021-01-25</td>\n",
              "      <td>96.730003</td>\n",
              "      <td>159.179993</td>\n",
              "      <td>61.130001</td>\n",
              "      <td>76.790001</td>\n",
              "      <td>177874000.0</td>\n",
              "      <td>76.790001</td>\n",
              "    </tr>\n",
              "    <tr>\n",
              "      <th>4</th>\n",
              "      <td>2021-01-22</td>\n",
              "      <td>42.590000</td>\n",
              "      <td>76.760002</td>\n",
              "      <td>42.320000</td>\n",
              "      <td>65.010002</td>\n",
              "      <td>196784300.0</td>\n",
              "      <td>65.010002</td>\n",
              "    </tr>\n",
              "  </tbody>\n",
              "</table>\n",
              "</div>"
            ],
            "text/plain": [
              "         date  open_price  high_price  ...  close_price       volume  adjclose_price\n",
              "0  2021-01-28  265.000000  483.000000  ...   193.600006   58815800.0      193.600006\n",
              "1  2021-01-27  354.829987  380.000000  ...   347.510010   93396700.0      347.510010\n",
              "2  2021-01-26   88.559998  150.000000  ...   147.979996  178588000.0      147.979996\n",
              "3  2021-01-25   96.730003  159.179993  ...    76.790001  177874000.0       76.790001\n",
              "4  2021-01-22   42.590000   76.760002  ...    65.010002  196784300.0       65.010002\n",
              "\n",
              "[5 rows x 7 columns]"
            ]
          },
          "metadata": {
            "tags": []
          },
          "execution_count": 4
        }
      ]
    },
    {
      "cell_type": "code",
      "metadata": {
        "colab": {
          "base_uri": "https://localhost:8080/"
        },
        "id": "-rQVzLBUbNpy",
        "outputId": "1f209394-b9de-45e1-afab-5c8c5c73f14f"
      },
      "source": [
        "game_stoke.shape"
      ],
      "execution_count": 5,
      "outputs": [
        {
          "output_type": "execute_result",
          "data": {
            "text/plain": [
              "(4773, 7)"
            ]
          },
          "metadata": {
            "tags": []
          },
          "execution_count": 5
        }
      ]
    },
    {
      "cell_type": "code",
      "metadata": {
        "colab": {
          "base_uri": "https://localhost:8080/"
        },
        "id": "JJb6yNOVbSPz",
        "outputId": "98b94305-a9b7-4146-ab43-525ddcabcd8c"
      },
      "source": [
        "game_stoke['date'].dtypes"
      ],
      "execution_count": 8,
      "outputs": [
        {
          "output_type": "execute_result",
          "data": {
            "text/plain": [
              "dtype('O')"
            ]
          },
          "metadata": {
            "tags": []
          },
          "execution_count": 8
        }
      ]
    },
    {
      "cell_type": "code",
      "metadata": {
        "id": "79AZxsBEbZGw"
      },
      "source": [
        ""
      ],
      "execution_count": null,
      "outputs": []
    }
  ]
}