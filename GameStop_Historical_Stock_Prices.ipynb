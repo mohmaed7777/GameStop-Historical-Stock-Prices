{
  "nbformat": 4,
  "nbformat_minor": 0,
  "metadata": {
    "colab": {
      "name": "GameStop Historical Stock Prices.ipynb",
      "provenance": [],
      "authorship_tag": "ABX9TyMVpuOiAj98jeh3VhVqEtgW",
      "include_colab_link": true
    },
    "kernelspec": {
      "name": "python3",
      "display_name": "Python 3"
    }
  },
  "cells": [
    {
      "cell_type": "markdown",
      "metadata": {
        "id": "view-in-github",
        "colab_type": "text"
      },
      "source": [
        "<a href=\"https://colab.research.google.com/github/mohmaed7777/GameStop-Historical-Stock-Prices/blob/main/GameStop_Historical_Stock_Prices.ipynb\" target=\"_parent\"><img src=\"https://colab.research.google.com/assets/colab-badge.svg\" alt=\"Open In Colab\"/></a>"
      ]
    },
    {
      "cell_type": "markdown",
      "metadata": {
        "id": "1v3Qx2AsY09B"
      },
      "source": [
        "#**Description:**\r\n"
      ]
    },
    {
      "cell_type": "markdown",
      "metadata": {
        "id": "vzWA21UbYu6w"
      },
      "source": [
        "\r\n",
        "**GameStop Corp**: is an American video game, consumer electronics, and gaming merchandise retailer. GameStop's stocks have spiked in recent days since the Reddit group blew up the stock price. Now GameStop is up more than 1,700% since the start of January. so it is interesting to try to predict the stock prices in the next months and see how prediction and time series models will perform in this case. This Dataset is a daily historical stock price of GameStop from February 2002 (the year it was listed) to January 2021.\r\n",
        "\r\n",
        "**Content:**\r\n",
        "\r\n",
        "The dataset contains:\r\n",
        "\r\n",
        "**Date:**\r\n",
        "The date of trading\r\n",
        "\r\n",
        "**Open_price:**\r\n",
        "The opening price of the stock\r\n",
        "\r\n",
        "**High_price:**\r\n",
        "The high price of that day\r\n",
        "\r\n",
        "**Low_price:**\r\n",
        "The low price of that day\r\n",
        "\r\n",
        "**Close_price:**\r\n",
        "The closed price of that day\r\n",
        "\r\n",
        "**Volume:**\r\n",
        "The amount of stocks traded during that day\r\n",
        "\r\n",
        "**Adjclose_price:**\r\n",
        "The stock's closing price has been amended to include any distributions/corporate actions that occur before the next days open."
      ]
    },
    {
      "cell_type": "code",
      "metadata": {
        "colab": {
          "base_uri": "https://localhost:8080/"
        },
        "id": "W-M1JfLOYsu5",
        "outputId": "358fe2fd-c805-4292-f263-58c8c961286a"
      },
      "source": [
        "import pandas as pd \r\n",
        "import numpy as np \r\n",
        "import matplotlib.pyplot as plt \r\n",
        "import seaborn as sns \r\n",
        "%matplotlib inline \r\n",
        "sns.set()\r\n",
        "%pylab inline \r\n",
        "%config InlineBackend.figure_formats=['retina']\r\n",
        "import sklearn\r\n",
        "from sklearn.linear_model import LinearRegression\r\n",
        "from sklearn.metrics import r2_score\r\n",
        "from sklearn.model_selection import train_test_split\r\n",
        "from sklearn.preprocessing import (StandardScaler, PolynomialFeatures)\r\n",
        "print('Setup complete^____^')"
      ],
      "execution_count": 1,
      "outputs": [
        {
          "output_type": "stream",
          "text": [
            "Populating the interactive namespace from numpy and matplotlib\n",
            "Setup complete^____^\n"
          ],
          "name": "stdout"
        }
      ]
    },
    {
      "cell_type": "code",
      "metadata": {
        "colab": {
          "base_uri": "https://localhost:8080/",
          "height": 195
        },
        "id": "9bZH5SLYaxCc",
        "outputId": "8015c91f-0983-4e62-dbaf-c9ae9081c68e"
      },
      "source": [
        "game_stoke = pd.read_csv('/content/GME_stock.csv')\r\n",
        "game_stoke.head()"
      ],
      "execution_count": 2,
      "outputs": [
        {
          "output_type": "execute_result",
          "data": {
            "text/html": [
              "<div>\n",
              "<style scoped>\n",
              "    .dataframe tbody tr th:only-of-type {\n",
              "        vertical-align: middle;\n",
              "    }\n",
              "\n",
              "    .dataframe tbody tr th {\n",
              "        vertical-align: top;\n",
              "    }\n",
              "\n",
              "    .dataframe thead th {\n",
              "        text-align: right;\n",
              "    }\n",
              "</style>\n",
              "<table border=\"1\" class=\"dataframe\">\n",
              "  <thead>\n",
              "    <tr style=\"text-align: right;\">\n",
              "      <th></th>\n",
              "      <th>date</th>\n",
              "      <th>open_price</th>\n",
              "      <th>high_price</th>\n",
              "      <th>low_price</th>\n",
              "      <th>close_price</th>\n",
              "      <th>volume</th>\n",
              "      <th>adjclose_price</th>\n",
              "    </tr>\n",
              "  </thead>\n",
              "  <tbody>\n",
              "    <tr>\n",
              "      <th>0</th>\n",
              "      <td>2021-01-28</td>\n",
              "      <td>265.000000</td>\n",
              "      <td>483.000000</td>\n",
              "      <td>112.250000</td>\n",
              "      <td>193.600006</td>\n",
              "      <td>58815800.0</td>\n",
              "      <td>193.600006</td>\n",
              "    </tr>\n",
              "    <tr>\n",
              "      <th>1</th>\n",
              "      <td>2021-01-27</td>\n",
              "      <td>354.829987</td>\n",
              "      <td>380.000000</td>\n",
              "      <td>249.000000</td>\n",
              "      <td>347.510010</td>\n",
              "      <td>93396700.0</td>\n",
              "      <td>347.510010</td>\n",
              "    </tr>\n",
              "    <tr>\n",
              "      <th>2</th>\n",
              "      <td>2021-01-26</td>\n",
              "      <td>88.559998</td>\n",
              "      <td>150.000000</td>\n",
              "      <td>80.199997</td>\n",
              "      <td>147.979996</td>\n",
              "      <td>178588000.0</td>\n",
              "      <td>147.979996</td>\n",
              "    </tr>\n",
              "    <tr>\n",
              "      <th>3</th>\n",
              "      <td>2021-01-25</td>\n",
              "      <td>96.730003</td>\n",
              "      <td>159.179993</td>\n",
              "      <td>61.130001</td>\n",
              "      <td>76.790001</td>\n",
              "      <td>177874000.0</td>\n",
              "      <td>76.790001</td>\n",
              "    </tr>\n",
              "    <tr>\n",
              "      <th>4</th>\n",
              "      <td>2021-01-22</td>\n",
              "      <td>42.590000</td>\n",
              "      <td>76.760002</td>\n",
              "      <td>42.320000</td>\n",
              "      <td>65.010002</td>\n",
              "      <td>196784300.0</td>\n",
              "      <td>65.010002</td>\n",
              "    </tr>\n",
              "  </tbody>\n",
              "</table>\n",
              "</div>"
            ],
            "text/plain": [
              "         date  open_price  high_price  ...  close_price       volume  adjclose_price\n",
              "0  2021-01-28  265.000000  483.000000  ...   193.600006   58815800.0      193.600006\n",
              "1  2021-01-27  354.829987  380.000000  ...   347.510010   93396700.0      347.510010\n",
              "2  2021-01-26   88.559998  150.000000  ...   147.979996  178588000.0      147.979996\n",
              "3  2021-01-25   96.730003  159.179993  ...    76.790001  177874000.0       76.790001\n",
              "4  2021-01-22   42.590000   76.760002  ...    65.010002  196784300.0       65.010002\n",
              "\n",
              "[5 rows x 7 columns]"
            ]
          },
          "metadata": {
            "tags": []
          },
          "execution_count": 2
        }
      ]
    },
    {
      "cell_type": "code",
      "metadata": {
        "colab": {
          "base_uri": "https://localhost:8080/"
        },
        "id": "-rQVzLBUbNpy",
        "outputId": "c42664f5-9387-444c-bd81-442a4130bf32"
      },
      "source": [
        "game_stoke.shape"
      ],
      "execution_count": 3,
      "outputs": [
        {
          "output_type": "execute_result",
          "data": {
            "text/plain": [
              "(4773, 7)"
            ]
          },
          "metadata": {
            "tags": []
          },
          "execution_count": 3
        }
      ]
    },
    {
      "cell_type": "code",
      "metadata": {
        "colab": {
          "base_uri": "https://localhost:8080/"
        },
        "id": "JJb6yNOVbSPz",
        "outputId": "346ad1e2-89c2-412c-8eb0-ea1b266b2153"
      },
      "source": [
        "game_stoke['date'].dtypes"
      ],
      "execution_count": 4,
      "outputs": [
        {
          "output_type": "execute_result",
          "data": {
            "text/plain": [
              "dtype('O')"
            ]
          },
          "metadata": {
            "tags": []
          },
          "execution_count": 4
        }
      ]
    },
    {
      "cell_type": "code",
      "metadata": {
        "id": "79AZxsBEbZGw",
        "colab": {
          "base_uri": "https://localhost:8080/"
        },
        "outputId": "e16c8cd2-151d-4ad5-9779-5268fe57fcdc"
      },
      "source": [
        "missing_data = game_stoke.isnull().sum()\r\n",
        "missing_data[:]"
      ],
      "execution_count": 5,
      "outputs": [
        {
          "output_type": "execute_result",
          "data": {
            "text/plain": [
              "date              0\n",
              "open_price        0\n",
              "high_price        0\n",
              "low_price         0\n",
              "close_price       0\n",
              "volume            0\n",
              "adjclose_price    0\n",
              "dtype: int64"
            ]
          },
          "metadata": {
            "tags": []
          },
          "execution_count": 5
        }
      ]
    },
    {
      "cell_type": "code",
      "metadata": {
        "id": "MNuQg_4UH_uk",
        "colab": {
          "base_uri": "https://localhost:8080/"
        },
        "outputId": "277bc02b-8a97-4f13-d334-a0f438acfa30"
      },
      "source": [
        "game_stoke.columns.tolist()"
      ],
      "execution_count": 6,
      "outputs": [
        {
          "output_type": "execute_result",
          "data": {
            "text/plain": [
              "['date',\n",
              " 'open_price',\n",
              " 'high_price',\n",
              " 'low_price',\n",
              " 'close_price',\n",
              " 'volume',\n",
              " 'adjclose_price']"
            ]
          },
          "metadata": {
            "tags": []
          },
          "execution_count": 6
        }
      ]
    },
    {
      "cell_type": "code",
      "metadata": {
        "id": "1SvSgIkXH0BZ",
        "colab": {
          "base_uri": "https://localhost:8080/",
          "height": 106
        },
        "outputId": "d0cbc89f-f883-4793-b127-d3d3273530f9"
      },
      "source": [
        "game_stoke.drop(['date'], axis=1, inplace=True)\r\n",
        "game_stoke.head(2)"
      ],
      "execution_count": 7,
      "outputs": [
        {
          "output_type": "execute_result",
          "data": {
            "text/html": [
              "<div>\n",
              "<style scoped>\n",
              "    .dataframe tbody tr th:only-of-type {\n",
              "        vertical-align: middle;\n",
              "    }\n",
              "\n",
              "    .dataframe tbody tr th {\n",
              "        vertical-align: top;\n",
              "    }\n",
              "\n",
              "    .dataframe thead th {\n",
              "        text-align: right;\n",
              "    }\n",
              "</style>\n",
              "<table border=\"1\" class=\"dataframe\">\n",
              "  <thead>\n",
              "    <tr style=\"text-align: right;\">\n",
              "      <th></th>\n",
              "      <th>open_price</th>\n",
              "      <th>high_price</th>\n",
              "      <th>low_price</th>\n",
              "      <th>close_price</th>\n",
              "      <th>volume</th>\n",
              "      <th>adjclose_price</th>\n",
              "    </tr>\n",
              "  </thead>\n",
              "  <tbody>\n",
              "    <tr>\n",
              "      <th>0</th>\n",
              "      <td>265.000000</td>\n",
              "      <td>483.0</td>\n",
              "      <td>112.25</td>\n",
              "      <td>193.600006</td>\n",
              "      <td>58815800.0</td>\n",
              "      <td>193.600006</td>\n",
              "    </tr>\n",
              "    <tr>\n",
              "      <th>1</th>\n",
              "      <td>354.829987</td>\n",
              "      <td>380.0</td>\n",
              "      <td>249.00</td>\n",
              "      <td>347.510010</td>\n",
              "      <td>93396700.0</td>\n",
              "      <td>347.510010</td>\n",
              "    </tr>\n",
              "  </tbody>\n",
              "</table>\n",
              "</div>"
            ],
            "text/plain": [
              "   open_price  high_price  low_price  close_price      volume  adjclose_price\n",
              "0  265.000000       483.0     112.25   193.600006  58815800.0      193.600006\n",
              "1  354.829987       380.0     249.00   347.510010  93396700.0      347.510010"
            ]
          },
          "metadata": {
            "tags": []
          },
          "execution_count": 7
        }
      ]
    },
    {
      "cell_type": "code",
      "metadata": {
        "id": "8n6eIwOkINE9",
        "colab": {
          "base_uri": "https://localhost:8080/",
          "height": 284
        },
        "outputId": "ed1bcd49-58ec-41ef-8ed1-c5f4e359adbe"
      },
      "source": [
        "game_stoke.describe()"
      ],
      "execution_count": 8,
      "outputs": [
        {
          "output_type": "execute_result",
          "data": {
            "text/html": [
              "<div>\n",
              "<style scoped>\n",
              "    .dataframe tbody tr th:only-of-type {\n",
              "        vertical-align: middle;\n",
              "    }\n",
              "\n",
              "    .dataframe tbody tr th {\n",
              "        vertical-align: top;\n",
              "    }\n",
              "\n",
              "    .dataframe thead th {\n",
              "        text-align: right;\n",
              "    }\n",
              "</style>\n",
              "<table border=\"1\" class=\"dataframe\">\n",
              "  <thead>\n",
              "    <tr style=\"text-align: right;\">\n",
              "      <th></th>\n",
              "      <th>open_price</th>\n",
              "      <th>high_price</th>\n",
              "      <th>low_price</th>\n",
              "      <th>close_price</th>\n",
              "      <th>volume</th>\n",
              "      <th>adjclose_price</th>\n",
              "    </tr>\n",
              "  </thead>\n",
              "  <tbody>\n",
              "    <tr>\n",
              "      <th>count</th>\n",
              "      <td>4773.000000</td>\n",
              "      <td>4773.000000</td>\n",
              "      <td>4773.000000</td>\n",
              "      <td>4773.000000</td>\n",
              "      <td>4.773000e+03</td>\n",
              "      <td>4773.000000</td>\n",
              "    </tr>\n",
              "    <tr>\n",
              "      <th>mean</th>\n",
              "      <td>23.201005</td>\n",
              "      <td>23.693590</td>\n",
              "      <td>22.714309</td>\n",
              "      <td>23.193234</td>\n",
              "      <td>3.398255e+06</td>\n",
              "      <td>16.882897</td>\n",
              "    </tr>\n",
              "    <tr>\n",
              "      <th>std</th>\n",
              "      <td>14.695884</td>\n",
              "      <td>16.210219</td>\n",
              "      <td>13.628194</td>\n",
              "      <td>14.513893</td>\n",
              "      <td>6.547035e+06</td>\n",
              "      <td>11.019953</td>\n",
              "    </tr>\n",
              "    <tr>\n",
              "      <th>min</th>\n",
              "      <td>2.850000</td>\n",
              "      <td>2.940000</td>\n",
              "      <td>2.570000</td>\n",
              "      <td>2.800000</td>\n",
              "      <td>6.500000e+04</td>\n",
              "      <td>2.555174</td>\n",
              "    </tr>\n",
              "    <tr>\n",
              "      <th>25%</th>\n",
              "      <td>11.360000</td>\n",
              "      <td>11.575000</td>\n",
              "      <td>11.130000</td>\n",
              "      <td>11.350000</td>\n",
              "      <td>1.528900e+06</td>\n",
              "      <td>9.607993</td>\n",
              "    </tr>\n",
              "    <tr>\n",
              "      <th>50%</th>\n",
              "      <td>21.760000</td>\n",
              "      <td>22.110001</td>\n",
              "      <td>21.430000</td>\n",
              "      <td>21.760000</td>\n",
              "      <td>2.491800e+06</td>\n",
              "      <td>15.479172</td>\n",
              "    </tr>\n",
              "    <tr>\n",
              "      <th>75%</th>\n",
              "      <td>29.420000</td>\n",
              "      <td>30.170000</td>\n",
              "      <td>28.719999</td>\n",
              "      <td>29.430000</td>\n",
              "      <td>3.791600e+06</td>\n",
              "      <td>22.205433</td>\n",
              "    </tr>\n",
              "    <tr>\n",
              "      <th>max</th>\n",
              "      <td>354.829987</td>\n",
              "      <td>483.000000</td>\n",
              "      <td>249.000000</td>\n",
              "      <td>347.510010</td>\n",
              "      <td>1.967843e+08</td>\n",
              "      <td>347.510010</td>\n",
              "    </tr>\n",
              "  </tbody>\n",
              "</table>\n",
              "</div>"
            ],
            "text/plain": [
              "        open_price   high_price  ...        volume  adjclose_price\n",
              "count  4773.000000  4773.000000  ...  4.773000e+03     4773.000000\n",
              "mean     23.201005    23.693590  ...  3.398255e+06       16.882897\n",
              "std      14.695884    16.210219  ...  6.547035e+06       11.019953\n",
              "min       2.850000     2.940000  ...  6.500000e+04        2.555174\n",
              "25%      11.360000    11.575000  ...  1.528900e+06        9.607993\n",
              "50%      21.760000    22.110001  ...  2.491800e+06       15.479172\n",
              "75%      29.420000    30.170000  ...  3.791600e+06       22.205433\n",
              "max     354.829987   483.000000  ...  1.967843e+08      347.510010\n",
              "\n",
              "[8 rows x 6 columns]"
            ]
          },
          "metadata": {
            "tags": []
          },
          "execution_count": 8
        }
      ]
    },
    {
      "cell_type": "code",
      "metadata": {
        "id": "g-spGeqG68AU",
        "outputId": "009d3698-2754-4ce4-b2b9-f222fa746c00",
        "colab": {
          "base_uri": "https://localhost:8080/",
          "height": 1000
        }
      },
      "source": [
        "sns.pairplot(game_stoke, plot_kws=dict(alpha=1, edgecolor=None))"
      ],
      "execution_count": 9,
      "outputs": [
        {
          "output_type": "execute_result",
          "data": {
            "text/plain": [
              "<seaborn.axisgrid.PairGrid at 0x7f066a854ed0>"
            ]
          },
          "metadata": {
            "tags": []
          },
          "execution_count": 9
        },
        {
          "output_type": "display_data",
          "data": {
            "image/png": "[encoded data removed]",
            "text/plain": [
              "<Figure size 1080x1080 with 42 Axes>"
            ]
          },
          "metadata": {
            "tags": [],
            "image/png": {
              "width": 1062,
              "height": 1062
            },
            "needs_background": "light"
          }
        }
      ]
    },
    {
      "cell_type": "code",
      "metadata": {
        "id": "n-dTue6pIeC5",
        "colab": {
          "base_uri": "https://localhost:8080/",
          "height": 268
        },
        "outputId": "594f3899-b5d7-4b3a-d290-09b532931c83"
      },
      "source": [
        "# Variable Tranformation : \r\n",
        "game_stoke.adjclose_price.hist();"
      ],
      "execution_count": null,
      "outputs": [
        {
          "output_type": "display_data",
          "data": {
            "image/png": "[encoded data removed]",
            "text/plain": [
              "<Figure size 432x288 with 1 Axes>"
            ]
          },
          "metadata": {
            "tags": [],
            "image/png": {
              "width": 386,
              "height": 251
            },
            "needs_background": "light"
          }
        }
      ]
    },
    {
      "cell_type": "code",
      "metadata": {
        "id": "OWCUAiONJeQE",
        "colab": {
          "base_uri": "https://localhost:8080/"
        },
        "outputId": "a393666b-4137-4695-8a38-af1a30e3df5d"
      },
      "source": [
        "# Log transformation : \r\n",
        "# Create alist of  float columns to check for skewing : \r\n",
        "num_cols = game_stoke.select_dtypes('number').columns\r\n",
        "skew_limit = 0.75 \r\n",
        "skew_vals = game_stoke[num_cols].skew()\r\n",
        "# Showing the skewed columns : \r\n",
        "skew_cols = skew_vals[abs(skew_vals) > skew_limit].sort_values(ascending=False)\r\n",
        "skew_cols"
      ],
      "execution_count": null,
      "outputs": [
        {
          "output_type": "execute_result",
          "data": {
            "text/plain": [
              "volume            18.207818\n",
              "high_price         7.581501\n",
              "adjclose_price     7.268106\n",
              "open_price         3.858436\n",
              "close_price        3.312503\n",
              "low_price          1.605694\n",
              "dtype: float64"
            ]
          },
          "metadata": {
            "tags": []
          },
          "execution_count": 18
        }
      ]
    },
    {
      "cell_type": "code",
      "metadata": {
        "id": "j7fvaL-0L4Z2"
      },
      "source": [
        "# We need to check  our target value  is Normally distributed or not : \r\n",
        "from scipy.stats.mstats import normaltest\r\n"
      ],
      "execution_count": null,
      "outputs": []
    },
    {
      "cell_type": "code",
      "metadata": {
        "id": "PD-SoXlOOGsO",
        "colab": {
          "base_uri": "https://localhost:8080/"
        },
        "outputId": "a319f3c1-322c-428d-def0-a82a4848eae5"
      },
      "source": [
        "normaltest(game_stoke.adjclose_price.values)"
      ],
      "execution_count": null,
      "outputs": [
        {
          "output_type": "execute_result",
          "data": {
            "text/plain": [
              "NormaltestResult(statistic=6543.386587740895, pvalue=0.0)"
            ]
          },
          "metadata": {
            "tags": []
          },
          "execution_count": 29
        }
      ]
    },
    {
      "cell_type": "code",
      "metadata": {
        "id": "3tQBaJpTOO3B",
        "colab": {
          "base_uri": "https://localhost:8080/"
        },
        "outputId": "9c8c520d-7399-4d29-d449-a910543eb255"
      },
      "source": [
        "# Create the Linear Regression Model : \r\n",
        "lr = LinearRegression()\r\n",
        "lr"
      ],
      "execution_count": null,
      "outputs": [
        {
          "output_type": "execute_result",
          "data": {
            "text/plain": [
              "LinearRegression(copy_X=True, fit_intercept=True, n_jobs=None, normalize=False)"
            ]
          },
          "metadata": {
            "tags": []
          },
          "execution_count": 30
        }
      ]
    },
    {
      "cell_type": "code",
      "metadata": {
        "id": "7XVrK9dgOnr6",
        "colab": {
          "base_uri": "https://localhost:8080/",
          "height": 402
        },
        "outputId": "7c68ac34-fe7c-423b-d6ac-6ea4ececd42b"
      },
      "source": [
        "# Create X and Y :\r\n",
        "game_stoke"
      ],
      "execution_count": null,
      "outputs": [
        {
          "output_type": "execute_result",
          "data": {
            "text/html": [
              "<div>\n",
              "<style scoped>\n",
              "    .dataframe tbody tr th:only-of-type {\n",
              "        vertical-align: middle;\n",
              "    }\n",
              "\n",
              "    .dataframe tbody tr th {\n",
              "        vertical-align: top;\n",
              "    }\n",
              "\n",
              "    .dataframe thead th {\n",
              "        text-align: right;\n",
              "    }\n",
              "</style>\n",
              "<table border=\"1\" class=\"dataframe\">\n",
              "  <thead>\n",
              "    <tr style=\"text-align: right;\">\n",
              "      <th></th>\n",
              "      <th>open_price</th>\n",
              "      <th>high_price</th>\n",
              "      <th>low_price</th>\n",
              "      <th>close_price</th>\n",
              "      <th>volume</th>\n",
              "      <th>adjclose_price</th>\n",
              "    </tr>\n",
              "  </thead>\n",
              "  <tbody>\n",
              "    <tr>\n",
              "      <th>0</th>\n",
              "      <td>265.000000</td>\n",
              "      <td>483.000000</td>\n",
              "      <td>112.250000</td>\n",
              "      <td>193.600006</td>\n",
              "      <td>58815800.0</td>\n",
              "      <td>193.600006</td>\n",
              "    </tr>\n",
              "    <tr>\n",
              "      <th>1</th>\n",
              "      <td>354.829987</td>\n",
              "      <td>380.000000</td>\n",
              "      <td>249.000000</td>\n",
              "      <td>347.510010</td>\n",
              "      <td>93396700.0</td>\n",
              "      <td>347.510010</td>\n",
              "    </tr>\n",
              "    <tr>\n",
              "      <th>2</th>\n",
              "      <td>88.559998</td>\n",
              "      <td>150.000000</td>\n",
              "      <td>80.199997</td>\n",
              "      <td>147.979996</td>\n",
              "      <td>178588000.0</td>\n",
              "      <td>147.979996</td>\n",
              "    </tr>\n",
              "    <tr>\n",
              "      <th>3</th>\n",
              "      <td>96.730003</td>\n",
              "      <td>159.179993</td>\n",
              "      <td>61.130001</td>\n",
              "      <td>76.790001</td>\n",
              "      <td>177874000.0</td>\n",
              "      <td>76.790001</td>\n",
              "    </tr>\n",
              "    <tr>\n",
              "      <th>4</th>\n",
              "      <td>42.590000</td>\n",
              "      <td>76.760002</td>\n",
              "      <td>42.320000</td>\n",
              "      <td>65.010002</td>\n",
              "      <td>196784300.0</td>\n",
              "      <td>65.010002</td>\n",
              "    </tr>\n",
              "    <tr>\n",
              "      <th>...</th>\n",
              "      <td>...</td>\n",
              "      <td>...</td>\n",
              "      <td>...</td>\n",
              "      <td>...</td>\n",
              "      <td>...</td>\n",
              "      <td>...</td>\n",
              "    </tr>\n",
              "    <tr>\n",
              "      <th>4768</th>\n",
              "      <td>9.600000</td>\n",
              "      <td>9.875000</td>\n",
              "      <td>9.525000</td>\n",
              "      <td>9.875000</td>\n",
              "      <td>1723200.0</td>\n",
              "      <td>6.648838</td>\n",
              "    </tr>\n",
              "    <tr>\n",
              "      <th>4769</th>\n",
              "      <td>9.900000</td>\n",
              "      <td>9.900000</td>\n",
              "      <td>9.375000</td>\n",
              "      <td>9.550000</td>\n",
              "      <td>1852600.0</td>\n",
              "      <td>6.430017</td>\n",
              "    </tr>\n",
              "    <tr>\n",
              "      <th>4770</th>\n",
              "      <td>10.000000</td>\n",
              "      <td>10.025000</td>\n",
              "      <td>9.850000</td>\n",
              "      <td>9.950000</td>\n",
              "      <td>2097400.0</td>\n",
              "      <td>6.699336</td>\n",
              "    </tr>\n",
              "    <tr>\n",
              "      <th>4771</th>\n",
              "      <td>10.175000</td>\n",
              "      <td>10.195000</td>\n",
              "      <td>9.925000</td>\n",
              "      <td>10.000000</td>\n",
              "      <td>2755400.0</td>\n",
              "      <td>6.733003</td>\n",
              "    </tr>\n",
              "    <tr>\n",
              "      <th>4772</th>\n",
              "      <td>9.625000</td>\n",
              "      <td>10.060000</td>\n",
              "      <td>9.525000</td>\n",
              "      <td>10.050000</td>\n",
              "      <td>19054000.0</td>\n",
              "      <td>6.766666</td>\n",
              "    </tr>\n",
              "  </tbody>\n",
              "</table>\n",
              "<p>4773 rows × 6 columns</p>\n",
              "</div>"
            ],
            "text/plain": [
              "      open_price  high_price  ...       volume  adjclose_price\n",
              "0     265.000000  483.000000  ...   58815800.0      193.600006\n",
              "1     354.829987  380.000000  ...   93396700.0      347.510010\n",
              "2      88.559998  150.000000  ...  178588000.0      147.979996\n",
              "3      96.730003  159.179993  ...  177874000.0       76.790001\n",
              "4      42.590000   76.760002  ...  196784300.0       65.010002\n",
              "...          ...         ...  ...          ...             ...\n",
              "4768    9.600000    9.875000  ...    1723200.0        6.648838\n",
              "4769    9.900000    9.900000  ...    1852600.0        6.430017\n",
              "4770   10.000000   10.025000  ...    2097400.0        6.699336\n",
              "4771   10.175000   10.195000  ...    2755400.0        6.733003\n",
              "4772    9.625000   10.060000  ...   19054000.0        6.766666\n",
              "\n",
              "[4773 rows x 6 columns]"
            ]
          },
          "metadata": {
            "tags": []
          },
          "execution_count": 31
        }
      ]
    },
    {
      "cell_type": "code",
      "metadata": {
        "id": "O6zXurg5OxLt",
        "colab": {
          "base_uri": "https://localhost:8080/"
        },
        "outputId": "0419b322-db39-4c4b-ddad-b0c281340533"
      },
      "source": [
        "y = game_stoke['adjclose_price']\r\n",
        "y"
      ],
      "execution_count": null,
      "outputs": [
        {
          "output_type": "execute_result",
          "data": {
            "text/plain": [
              "0       193.600006\n",
              "1       347.510010\n",
              "2       147.979996\n",
              "3        76.790001\n",
              "4        65.010002\n",
              "           ...    \n",
              "4768      6.648838\n",
              "4769      6.430017\n",
              "4770      6.699336\n",
              "4771      6.733003\n",
              "4772      6.766666\n",
              "Name: adjclose_price, Length: 4773, dtype: float64"
            ]
          },
          "metadata": {
            "tags": []
          },
          "execution_count": 33
        }
      ]
    },
    {
      "cell_type": "code",
      "metadata": {
        "id": "yTgnwk02POO4",
        "colab": {
          "base_uri": "https://localhost:8080/"
        },
        "outputId": "ff260de4-037d-4261-eaf1-4de86ecaee5d"
      },
      "source": [
        "game_stoke.columns"
      ],
      "execution_count": null,
      "outputs": [
        {
          "output_type": "execute_result",
          "data": {
            "text/plain": [
              "Index(['open_price', 'high_price', 'low_price', 'close_price', 'volume',\n",
              "       'adjclose_price'],\n",
              "      dtype='object')"
            ]
          },
          "metadata": {
            "tags": []
          },
          "execution_count": 35
        }
      ]
    },
    {
      "cell_type": "code",
      "metadata": {
        "id": "UeCyCGCpPiGc",
        "colab": {
          "base_uri": "https://localhost:8080/",
          "height": 402
        },
        "outputId": "a470a5d9-516e-4d9b-aeb8-7aa918acff46"
      },
      "source": [
        "x = game_stoke[['open_price', 'high_price', 'low_price', 'close_price', 'volume']]\r\n",
        "x"
      ],
      "execution_count": null,
      "outputs": [
        {
          "output_type": "execute_result",
          "data": {
            "text/html": [
              "<div>\n",
              "<style scoped>\n",
              "    .dataframe tbody tr th:only-of-type {\n",
              "        vertical-align: middle;\n",
              "    }\n",
              "\n",
              "    .dataframe tbody tr th {\n",
              "        vertical-align: top;\n",
              "    }\n",
              "\n",
              "    .dataframe thead th {\n",
              "        text-align: right;\n",
              "    }\n",
              "</style>\n",
              "<table border=\"1\" class=\"dataframe\">\n",
              "  <thead>\n",
              "    <tr style=\"text-align: right;\">\n",
              "      <th></th>\n",
              "      <th>open_price</th>\n",
              "      <th>high_price</th>\n",
              "      <th>low_price</th>\n",
              "      <th>close_price</th>\n",
              "      <th>volume</th>\n",
              "    </tr>\n",
              "  </thead>\n",
              "  <tbody>\n",
              "    <tr>\n",
              "      <th>0</th>\n",
              "      <td>265.000000</td>\n",
              "      <td>483.000000</td>\n",
              "      <td>112.250000</td>\n",
              "      <td>193.600006</td>\n",
              "      <td>58815800.0</td>\n",
              "    </tr>\n",
              "    <tr>\n",
              "      <th>1</th>\n",
              "      <td>354.829987</td>\n",
              "      <td>380.000000</td>\n",
              "      <td>249.000000</td>\n",
              "      <td>347.510010</td>\n",
              "      <td>93396700.0</td>\n",
              "    </tr>\n",
              "    <tr>\n",
              "      <th>2</th>\n",
              "      <td>88.559998</td>\n",
              "      <td>150.000000</td>\n",
              "      <td>80.199997</td>\n",
              "      <td>147.979996</td>\n",
              "      <td>178588000.0</td>\n",
              "    </tr>\n",
              "    <tr>\n",
              "      <th>3</th>\n",
              "      <td>96.730003</td>\n",
              "      <td>159.179993</td>\n",
              "      <td>61.130001</td>\n",
              "      <td>76.790001</td>\n",
              "      <td>177874000.0</td>\n",
              "    </tr>\n",
              "    <tr>\n",
              "      <th>4</th>\n",
              "      <td>42.590000</td>\n",
              "      <td>76.760002</td>\n",
              "      <td>42.320000</td>\n",
              "      <td>65.010002</td>\n",
              "      <td>196784300.0</td>\n",
              "    </tr>\n",
              "    <tr>\n",
              "      <th>...</th>\n",
              "      <td>...</td>\n",
              "      <td>...</td>\n",
              "      <td>...</td>\n",
              "      <td>...</td>\n",
              "      <td>...</td>\n",
              "    </tr>\n",
              "    <tr>\n",
              "      <th>4768</th>\n",
              "      <td>9.600000</td>\n",
              "      <td>9.875000</td>\n",
              "      <td>9.525000</td>\n",
              "      <td>9.875000</td>\n",
              "      <td>1723200.0</td>\n",
              "    </tr>\n",
              "    <tr>\n",
              "      <th>4769</th>\n",
              "      <td>9.900000</td>\n",
              "      <td>9.900000</td>\n",
              "      <td>9.375000</td>\n",
              "      <td>9.550000</td>\n",
              "      <td>1852600.0</td>\n",
              "    </tr>\n",
              "    <tr>\n",
              "      <th>4770</th>\n",
              "      <td>10.000000</td>\n",
              "      <td>10.025000</td>\n",
              "      <td>9.850000</td>\n",
              "      <td>9.950000</td>\n",
              "      <td>2097400.0</td>\n",
              "    </tr>\n",
              "    <tr>\n",
              "      <th>4771</th>\n",
              "      <td>10.175000</td>\n",
              "      <td>10.195000</td>\n",
              "      <td>9.925000</td>\n",
              "      <td>10.000000</td>\n",
              "      <td>2755400.0</td>\n",
              "    </tr>\n",
              "    <tr>\n",
              "      <th>4772</th>\n",
              "      <td>9.625000</td>\n",
              "      <td>10.060000</td>\n",
              "      <td>9.525000</td>\n",
              "      <td>10.050000</td>\n",
              "      <td>19054000.0</td>\n",
              "    </tr>\n",
              "  </tbody>\n",
              "</table>\n",
              "<p>4773 rows × 5 columns</p>\n",
              "</div>"
            ],
            "text/plain": [
              "      open_price  high_price   low_price  close_price       volume\n",
              "0     265.000000  483.000000  112.250000   193.600006   58815800.0\n",
              "1     354.829987  380.000000  249.000000   347.510010   93396700.0\n",
              "2      88.559998  150.000000   80.199997   147.979996  178588000.0\n",
              "3      96.730003  159.179993   61.130001    76.790001  177874000.0\n",
              "4      42.590000   76.760002   42.320000    65.010002  196784300.0\n",
              "...          ...         ...         ...          ...          ...\n",
              "4768    9.600000    9.875000    9.525000     9.875000    1723200.0\n",
              "4769    9.900000    9.900000    9.375000     9.550000    1852600.0\n",
              "4770   10.000000   10.025000    9.850000     9.950000    2097400.0\n",
              "4771   10.175000   10.195000    9.925000    10.000000    2755400.0\n",
              "4772    9.625000   10.060000    9.525000    10.050000   19054000.0\n",
              "\n",
              "[4773 rows x 5 columns]"
            ]
          },
          "metadata": {
            "tags": []
          },
          "execution_count": 36
        }
      ]
    },
    {
      "cell_type": "code",
      "metadata": {
        "id": "PG94ri8NP-vy"
      },
      "source": [
        "# Create polynomial Features : \r\n",
        "pf = PolynomialFeatures(degree=2, include_bias=False)\r\n",
        "x_pf = pf.fit_transform(x)"
      ],
      "execution_count": null,
      "outputs": []
    },
    {
      "cell_type": "code",
      "metadata": {
        "id": "SNWYaKF2QXrB",
        "colab": {
          "base_uri": "https://localhost:8080/"
        },
        "outputId": "bca9a15f-5c07-4e13-9557-8c99ceda8473"
      },
      "source": [
        "x.shape"
      ],
      "execution_count": null,
      "outputs": [
        {
          "output_type": "execute_result",
          "data": {
            "text/plain": [
              "(4773, 5)"
            ]
          },
          "metadata": {
            "tags": []
          },
          "execution_count": 42
        }
      ]
    },
    {
      "cell_type": "code",
      "metadata": {
        "id": "iUl-dqivQrDU",
        "colab": {
          "base_uri": "https://localhost:8080/"
        },
        "outputId": "fa0807f6-f938-4fe1-ef35-5c9b3e54c657"
      },
      "source": [
        "x_pf.shape"
      ],
      "execution_count": null,
      "outputs": [
        {
          "output_type": "execute_result",
          "data": {
            "text/plain": [
              "(4773, 20)"
            ]
          },
          "metadata": {
            "tags": []
          },
          "execution_count": 43
        }
      ]
    },
    {
      "cell_type": "code",
      "metadata": {
        "id": "b6Hz7gT_Qv1D"
      },
      "source": [
        "# Train Test split : \r\n",
        "x_train, x_test, y_train, y_test = train_test_split(x_pf, y, test_size=0.3, random_state=72018)\r\n"
      ],
      "execution_count": null,
      "outputs": []
    },
    {
      "cell_type": "code",
      "metadata": {
        "id": "qONIhNVgRMya",
        "colab": {
          "base_uri": "https://localhost:8080/"
        },
        "outputId": "4309e068-5a4a-4642-e7ab-01f4ac6016fa"
      },
      "source": [
        "# Fit standard on x_train : \r\n",
        "x_train.shape"
      ],
      "execution_count": null,
      "outputs": [
        {
          "output_type": "execute_result",
          "data": {
            "text/plain": [
              "(3341, 20)"
            ]
          },
          "metadata": {
            "tags": []
          },
          "execution_count": 46
        }
      ]
    },
    {
      "cell_type": "code",
      "metadata": {
        "id": "rk2lhO-lRVnZ",
        "colab": {
          "base_uri": "https://localhost:8080/"
        },
        "outputId": "002bb071-ff25-4836-da03-9abcbc41fb08"
      },
      "source": [
        "s = StandardScaler()\r\n",
        "x_train_s = s.fit_transform(x_train)\r\n",
        "x_train_s.shape"
      ],
      "execution_count": null,
      "outputs": [
        {
          "output_type": "execute_result",
          "data": {
            "text/plain": [
              "(3341, 20)"
            ]
          },
          "metadata": {
            "tags": []
          },
          "execution_count": 47
        }
      ]
    },
    {
      "cell_type": "code",
      "metadata": {
        "id": "n0QhtQx_RvN1"
      },
      "source": [
        "# Y value transformation : \r\n",
        "from scipy.stats import boxcox \r\n",
        "bc_result = boxcox(y_train)\r\n",
        "y_train_bc = bc_result[0]\r\n",
        "lam = bc_result[1]"
      ],
      "execution_count": null,
      "outputs": []
    },
    {
      "cell_type": "code",
      "metadata": {
        "id": "7eP-G1LMSCiR",
        "colab": {
          "base_uri": "https://localhost:8080/"
        },
        "outputId": "3d78275d-bfed-4a50-bed3-12a26ed564a2"
      },
      "source": [
        "y_train_bc"
      ],
      "execution_count": null,
      "outputs": [
        {
          "output_type": "execute_result",
          "data": {
            "text/plain": [
              "array([4.37111238, 4.64937642, 4.15332744, ..., 4.28628052, 5.80060269,\n",
              "       4.4838074 ])"
            ]
          },
          "metadata": {
            "tags": []
          },
          "execution_count": 51
        }
      ]
    },
    {
      "cell_type": "code",
      "metadata": {
        "id": "Qkr34Vv3SaD7",
        "colab": {
          "base_uri": "https://localhost:8080/"
        },
        "outputId": "142445d8-af68-4ae1-cb6a-5cd53cf84ec7"
      },
      "source": [
        "# Fit the model : \r\n",
        "lr.fit(x_train_s, y_train_bc)"
      ],
      "execution_count": null,
      "outputs": [
        {
          "output_type": "execute_result",
          "data": {
            "text/plain": [
              "LinearRegression(copy_X=True, fit_intercept=True, n_jobs=None, normalize=False)"
            ]
          },
          "metadata": {
            "tags": []
          },
          "execution_count": 53
        }
      ]
    },
    {
      "cell_type": "code",
      "metadata": {
        "id": "heQ_GTXOSh7P"
      },
      "source": [
        "x_test_s = s.transform(x_test)\r\n",
        "y_pred_bc = lr.predict(x_test_s)"
      ],
      "execution_count": null,
      "outputs": []
    },
    {
      "cell_type": "code",
      "metadata": {
        "id": "VSvAiz5IS7Bq",
        "colab": {
          "base_uri": "https://localhost:8080/"
        },
        "outputId": "b92aea02-cc4b-45b5-cb4a-24e975f2cf40"
      },
      "source": [
        "# Make a prediction and compared with the transformed y_test values : \r\n",
        "y_pred_bc[:5]"
      ],
      "execution_count": null,
      "outputs": [
        {
          "output_type": "execute_result",
          "data": {
            "text/plain": [
              "array([5.80136468, 6.01678977, 2.49470776, 4.16887423, 4.8784128 ])"
            ]
          },
          "metadata": {
            "tags": []
          },
          "execution_count": 55
        }
      ]
    },
    {
      "cell_type": "code",
      "metadata": {
        "id": "FLIHIdOMTARD",
        "colab": {
          "base_uri": "https://localhost:8080/"
        },
        "outputId": "2fc3f22b-45eb-471a-a3de-6f751a17cda8"
      },
      "source": [
        "# Transform the y_test value : \r\n",
        "bc_result_test = boxcox(y_test)\r\n",
        "y_test_bc = bc_result_test[0]\r\n",
        "y_test_bc[:5]"
      ],
      "execution_count": null,
      "outputs": [
        {
          "output_type": "execute_result",
          "data": {
            "text/plain": [
              "array([5.4993538 , 5.6808955 , 2.30873428, 3.84984805, 4.42643458])"
            ]
          },
          "metadata": {
            "tags": []
          },
          "execution_count": 57
        }
      ]
    },
    {
      "cell_type": "code",
      "metadata": {
        "id": "Z-8p2j_0TGzv",
        "colab": {
          "base_uri": "https://localhost:8080/"
        },
        "outputId": "2e986ab5-4846-44cf-c1eb-5ffa9ba7b5e1"
      },
      "source": [
        "print([y_pred_bc[:5]], y_test_bc[:5])"
      ],
      "execution_count": null,
      "outputs": [
        {
          "output_type": "stream",
          "text": [
            "[array([5.80136468, 6.01678977, 2.49470776, 4.16887423, 4.8784128 ])] [5.4993538  5.6808955  2.30873428 3.84984805 4.42643458]\n"
          ],
          "name": "stdout"
        }
      ]
    },
    {
      "cell_type": "code",
      "metadata": {
        "id": "AgguytaQUF3u"
      },
      "source": [
        ""
      ],
      "execution_count": null,
      "outputs": []
    }
  ]
}